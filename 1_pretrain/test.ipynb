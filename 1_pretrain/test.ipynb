{
 "cells": [
  {
   "cell_type": "code",
   "execution_count": 2,
   "metadata": {},
   "outputs": [
    {
     "name": "stderr",
     "output_type": "stream",
     "text": [
      "Some weights of LlamaForCausalLM were not initialized from the model checkpoint at eryk-mazus/polka-1.1b and are newly initialized: ['model.layers.19.self_attn.rotary_emb.inv_freq', 'model.layers.1.self_attn.rotary_emb.inv_freq', 'model.layers.12.self_attn.rotary_emb.inv_freq', 'model.layers.4.self_attn.rotary_emb.inv_freq', 'model.layers.14.self_attn.rotary_emb.inv_freq', 'model.layers.10.self_attn.rotary_emb.inv_freq', 'model.layers.0.self_attn.rotary_emb.inv_freq', 'model.layers.17.self_attn.rotary_emb.inv_freq', 'model.layers.18.self_attn.rotary_emb.inv_freq', 'model.layers.15.self_attn.rotary_emb.inv_freq', 'model.layers.13.self_attn.rotary_emb.inv_freq', 'model.layers.3.self_attn.rotary_emb.inv_freq', 'model.layers.8.self_attn.rotary_emb.inv_freq', 'model.layers.16.self_attn.rotary_emb.inv_freq', 'model.layers.11.self_attn.rotary_emb.inv_freq', 'model.layers.5.self_attn.rotary_emb.inv_freq', 'model.layers.6.self_attn.rotary_emb.inv_freq', 'model.layers.7.self_attn.rotary_emb.inv_freq', 'model.layers.21.self_attn.rotary_emb.inv_freq', 'model.layers.20.self_attn.rotary_emb.inv_freq', 'model.layers.2.self_attn.rotary_emb.inv_freq', 'model.layers.9.self_attn.rotary_emb.inv_freq']\n",
      "You should probably TRAIN this model on a down-stream task to be able to use it for predictions and inference.\n",
      "Downloading generation_config.json: 100%|██████████| 111/111 [00:00<?, ?B/s] \n",
      "c:\\Users\\SRU\\.conda\\envs\\airoll\\Lib\\site-packages\\transformers\\generation\\utils.py:1270: UserWarning: You have modified the pretrained model configuration to control generation. This is a deprecated strategy to control generation and will be removed soon, in a future version. Please use a generation configuration file (see https://huggingface.co/docs/transformers/main_classes/text_generation )\n",
      "  warnings.warn(\n"
     ]
    },
    {
     "name": "stdout",
     "output_type": "stream",
     "text": [
      "Przykładowe zapytanie do modelu CAD - Forum Pasja Informatyki\\nPrzykładowe zapytanie do modelu CAD\\npytanie zadane 19 grudnia 2009 w CAD, rysunki (Pasjonaty CAD, CAM, CAM/CAE) przez użytkownika kamil1992 60 13 1,030\\nPotrzebuje zrobić prostą rysunkówkę do programu AutoCad w celu zrobienia koszyka na którym bede mogł umiescic kilka kartonów i w ten sposób je zlicować i wydrukować. Mam do tego program CAD który umożliwi mi to i nie mam pojęcia jak to zrobic. Proszę o pomoc.\\npytanie zadane 27 listopada 2010 w Programowanie (C++, C#, Java, .net) przez użytkownika kamil1992 10 0 3,118\\nCzy ktoś wie jak można w AutoCadzie (CAD2008) zdefiniować kolor kreski w kratce w celu wycięcia takiej samej kratki? Mam takie kółko i chciałbym je zdefiniować na takiej samej wielkości kratce i wyciąć je w kratkę.\\npytanie zadane 16 grudnia 2007 w Programowanie (C++, C#, Java, .net, Visual Basic) przez użytkownika kamil1992 15 2 4,298\\nCzy istnieją programy do edycji rastrowych kształtów w CADzie? Czy istnieją jakieś programy z których korzysta się do edycji kształtów rastrowych w CADzie?\\npytanie zadane 28 listopada 2009 w CAD, rysunki (Pasjonaty CAD, CAM, CAM/CAE) przez użytkownika kamil1992 60 13 1,030\\npytanie zadane 26 stycznia 2010 w Programowanie (C++, C#, Java, .net) przez użytkownika kamil1992 0 0\n"
     ]
    }
   ],
   "source": [
    "import torch\n",
    "from transformers import AutoModelForCausalLM, AutoTokenizer\n",
    "\n",
    "model_name = \"eryk-mazus/polka-1.1b\"\n",
    "\n",
    "tokenizer = AutoTokenizer.from_pretrained(model_name, padding_side=\"left\")\n",
    "tokenizer.pad_token = tokenizer.eos_token\n",
    "\n",
    "model = AutoModelForCausalLM.from_pretrained(model_name, device_map=\"auto\")\n"
   ]
  },
  {
   "cell_type": "code",
   "execution_count": 4,
   "metadata": {},
   "outputs": [
    {
     "name": "stdout",
     "output_type": "stream",
     "text": [
      "MacBook Pro 2021 – czy warto go mieć? – MegaTech\\nMacBook Pro 2021 – czy warto go mieć?\\nMacBook Pro 2021 – to kolejne urządzenie Apple, które zostało wprowadzone na rynek w ubiegłym roku. Model ten jest następcą modelu 2015 i jest to najnowsza wersja tego urządzenia. W tym roku w sprzedaży pojawiła się nowa wersja tego modelu, która została wyposażona w nową matrycę, nową kartę graficzną czy wymianę procesora.\\nMacBook Pro 2021 – wady i zalety\\nMacBook Pro 2021 ma być urządzeniem, które jest następcą tego modelu z 2015 roku, jednakże jego wygląd i funkcjonalność jest zdecydowanie bardziej zaawansowana i nowocześniejsza od poprzedniego urządzenia Apple. Jest to również bardziej energooszczędny model, który posiada większy wyświetlacz niż poprzednia generacja, dzięki czemu może być z powodzeniem używany w biurze czy też w domu. W tym przypadku, model ten jest wyposażony w procesor, który jest nową generacją układu Apple M1, a także w ekran o przekątnej 12,9″ i rozdzielczości 3840 × 2160 pikseli. Jest to bardzo dobry wybór jeśli mowa o urządzeniach tego typu, gdyż jest to urządzenie nowoczesne i energooszczędne.\\nMacBook Pro 2021 jest urządzeniem bardzo nowoczesnym i energooszczędnym, który posiada bardzo dobry ekran, który pozwala cieszyć się doskonałym obrazem. Model ten posiada również bardzo wydajne podzespoły, które sprawiają, że jest to doskonałe urządzenie zarówno dla graczy, jak i dla użytkowników biurowych.\n"
     ]
    }
   ],
   "source": [
    "\n",
    "prompt = \"\"\"MacBook Pro\"\"\"\n",
    "\n",
    "model_inputs = tokenizer([prompt], return_tensors=\"pt\").to(\"cuda\")\n",
    "with torch.no_grad():\n",
    "  generated_ids = model.generate(\n",
    "    **model_inputs,\n",
    "    max_new_tokens=512,\n",
    "    do_sample=True,\n",
    "    penalty_alpha=0.6,\n",
    "    top_k=5\n",
    "  )\n",
    "\n",
    "output = tokenizer.batch_decode(generated_ids, skip_special_tokens=True)[0]\n",
    "print(output)\n"
   ]
  },
  {
   "cell_type": "code",
   "execution_count": 10,
   "metadata": {},
   "outputs": [
    {
     "data": {
      "text/plain": [
       "['turn', '𝙁', 'jego', '9', '�']"
      ]
     },
     "execution_count": 10,
     "metadata": {},
     "output_type": "execute_result"
    }
   ],
   "source": [
    "tokenizer.batch_decode([685, 36259, 14041, 60, 220])\n",
    "\"<SEPARATOR_OBRAZOW>\""
   ]
  },
  {
   "cell_type": "code",
   "execution_count": 21,
   "metadata": {},
   "outputs": [
    {
     "data": {
      "text/plain": [
       "[529, 1660, 16320, 1299, 1955, 29918, 14824, 4717, 29999, 9806, 29958]"
      ]
     },
     "execution_count": 21,
     "metadata": {},
     "output_type": "execute_result"
    }
   ],
   "source": [
    "tokenizer.encode(\"<IMG_SEPARATOR>\")[1:]"
   ]
  },
  {
   "cell_type": "code",
   "execution_count": 22,
   "metadata": {},
   "outputs": [
    {
     "data": {
      "text/plain": [
       "['<', 'SE', 'PAR', 'AT', 'OR', '_', 'OB', 'RA', 'Z', 'OW', '>']"
      ]
     },
     "execution_count": 22,
     "metadata": {},
     "output_type": "execute_result"
    }
   ],
   "source": [
    "tokenizer.batch_decode(tokenizer.encode(\"<SEPARATOR_OBRAZOW>\")[1:])\n"
   ]
  }
 ],
 "metadata": {
  "kernelspec": {
   "display_name": "airoll",
   "language": "python",
   "name": "python3"
  },
  "language_info": {
   "codemirror_mode": {
    "name": "ipython",
    "version": 3
   },
   "file_extension": ".py",
   "mimetype": "text/x-python",
   "name": "python",
   "nbconvert_exporter": "python",
   "pygments_lexer": "ipython3",
   "version": "3.11.4"
  }
 },
 "nbformat": 4,
 "nbformat_minor": 2
}
